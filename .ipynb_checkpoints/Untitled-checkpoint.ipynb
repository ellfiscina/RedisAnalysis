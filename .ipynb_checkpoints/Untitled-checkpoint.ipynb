{
 "cells": [
  {
   "cell_type": "markdown",
   "metadata": {},
   "source": [
    "# Sintetic Software Used To Analyze of Redis' Performance"
   ]
  },
  {
   "cell_type": "code",
   "execution_count": null,
   "metadata": {},
   "outputs": [],
   "source": [
    "import redis\n",
    "import time"
   ]
  },
  {
   "cell_type": "markdown",
   "metadata": {},
   "source": [
    "## Database configuration"
   ]
  },
  {
   "cell_type": "code",
   "execution_count": null,
   "metadata": {},
   "outputs": [],
   "source": [
    "r = redis.Redis(host='localhost', port=6379, db=0)\n",
    "r.flushdb()"
   ]
  },
  {
   "cell_type": "markdown",
   "metadata": {},
   "source": [
    "### Database structure"
   ]
  },
  {
   "cell_type": "code",
   "execution_count": null,
   "metadata": {},
   "outputs": [],
   "source": [
    "r.hset('campos', 'A0', 'INTEGER NOT NULL')\n",
    "r.hset('campos', 'A1', 'INTEGER')\n",
    "r.hset('campos', 'A2', 'NUMERIC')\n",
    "r.hset('campos', 'A3', 'NVARCHAR')\n",
    "r.hset('campos', 'A4', 'VARCHAR')\n",
    "r.hset('campos', 'A5', 'TIME')\n",
    "r.hset('campos', 'A6', 'DATE')"
   ]
  },
  {
   "cell_type": "code",
   "execution_count": null,
   "metadata": {},
   "outputs": [],
   "source": [
    "r.hkeys('campos')"
   ]
  },
  {
   "cell_type": "code",
   "execution_count": null,
   "metadata": {},
   "outputs": [],
   "source": [
    "r.hvals('campos')"
   ]
  },
  {
   "cell_type": "code",
   "execution_count": null,
   "metadata": {},
   "outputs": [],
   "source": [
    "r.hgetall('campos')"
   ]
  },
  {
   "cell_type": "markdown",
   "metadata": {},
   "source": [
    "### Time lists"
   ]
  },
  {
   "cell_type": "code",
   "execution_count": null,
   "metadata": {},
   "outputs": [],
   "source": [
    "insert_time = []\n",
    "sel_time = []\n",
    "up_time = []\n",
    "del_time = []"
   ]
  },
  {
   "cell_type": "markdown",
   "metadata": {},
   "source": [
    "## Insert"
   ]
  },
  {
   "cell_type": "code",
   "execution_count": null,
   "metadata": {},
   "outputs": [],
   "source": [
    "def insert():\n",
    "    initial_time = time.time()\n",
    "\n",
    "    for i in range(500000):\n",
    "        r.incr('A0')\n",
    "        r.rpush('A1', '1')\n",
    "        r.rpush('A2', '1.2')\n",
    "        r.rpush('A3', 'aaaaa')\n",
    "        r.rpush('A4', 'aaaaa')\n",
    "        r.rpush('A5', '11:11:11')\n",
    "        r.rpush('A6', '2007-09-23')\n",
    "\n",
    "    final_time = time.time()\n",
    "    return final_time - initial_time"
   ]
  },
  {
   "cell_type": "code",
   "execution_count": null,
   "metadata": {},
   "outputs": [],
   "source": [
    "for i in range(60):\n",
    "    time = insert()\n",
    "    insert_time.append(time)\n",
    "    print(i)\n",
    "    print(i + ' - ' + time)"
   ]
  },
  {
   "cell_type": "code",
   "execution_count": null,
   "metadata": {},
   "outputs": [],
   "source": [
    "insert()"
   ]
  },
  {
   "cell_type": "markdown",
   "metadata": {},
   "source": [
    "## Select"
   ]
  },
  {
   "cell_type": "code",
   "execution_count": null,
   "metadata": {},
   "outputs": [],
   "source": [
    "def select():\n",
    "    initial_time = time.time()\n",
    "    \n",
    "    for i in range(500000):\n",
    "        r.lindex('A0', i)\n",
    "        r.lindex('A1', i)\n",
    "        r.lindex('A2', i)\n",
    "        r.lindex('A3', i)\n",
    "        r.lindex('A4', i)\n",
    "        r.lindex('A5', i)\n",
    "        r.lindex('A6', i)\n",
    "    \n",
    "    final_time = time.time()\n",
    "    return final_time - initial_time"
   ]
  },
  {
   "cell_type": "code",
   "execution_count": null,
   "metadata": {},
   "outputs": [],
   "source": [
    "for i in range(60):\n",
    "    time = select()\n",
    "    sel_time.append(time)\n",
    "    print(i + ' - ' + time)"
   ]
  },
  {
   "cell_type": "code",
   "execution_count": null,
   "metadata": {},
   "outputs": [],
   "source": [
    "select()"
   ]
  },
  {
   "cell_type": "markdown",
   "metadata": {},
   "source": [
    "## Update"
   ]
  },
  {
   "cell_type": "code",
   "execution_count": null,
   "metadata": {},
   "outputs": [],
   "source": []
  },
  {
   "cell_type": "markdown",
   "metadata": {},
   "source": [
    "## Delete"
   ]
  },
  {
   "cell_type": "code",
   "execution_count": null,
   "metadata": {},
   "outputs": [],
   "source": [
    "def delete():\n",
    "    initial_time = time.time()\n",
    "    \n",
    "    for i in range(500000):\n",
    "        r.lpop('A0')\n",
    "        r.lpop('A1')\n",
    "        r.lpop('A2')\n",
    "        r.lpop('A3')\n",
    "        r.lpop('A4')\n",
    "        r.lpop('A5')\n",
    "        r.lpop('A6')\n",
    "    \n",
    "    final_time = time.time()\n",
    "    return final_time - initial_time"
   ]
  },
  {
   "cell_type": "code",
   "execution_count": null,
   "metadata": {},
   "outputs": [],
   "source": [
    "for i in range(60):\n",
    "    time = delete()\n",
    "    del_time.append(time)\n",
    "    print(i + ' - ' + time)"
   ]
  },
  {
   "cell_type": "code",
   "execution_count": null,
   "metadata": {},
   "outputs": [],
   "source": [
    "delete()"
   ]
  }
 ],
 "metadata": {
  "kernelspec": {
   "display_name": "Python 3",
   "language": "python",
   "name": "python3"
  },
  "language_info": {
   "codemirror_mode": {
    "name": "ipython",
    "version": 3
   },
   "file_extension": ".py",
   "mimetype": "text/x-python",
   "name": "python",
   "nbconvert_exporter": "python",
   "pygments_lexer": "ipython3",
   "version": "3.6.5"
  }
 },
 "nbformat": 4,
 "nbformat_minor": 2
}
