{
 "cells": [
  {
   "cell_type": "markdown",
   "metadata": {},
   "source": [
    "# Sintetic Software Used To Analyze of Redis' Performance"
   ]
  },
  {
   "cell_type": "code",
   "execution_count": 1,
   "metadata": {},
   "outputs": [],
   "source": [
    "import redis\n",
    "import time\n",
    "import csv"
   ]
  },
  {
   "cell_type": "markdown",
   "metadata": {},
   "source": [
    "## Database configuration"
   ]
  },
  {
   "cell_type": "code",
   "execution_count": 57,
   "metadata": {},
   "outputs": [],
   "source": [
    "r = redis.Redis(host='localhost', port=6379, db=0)"
   ]
  },
  {
   "cell_type": "code",
   "execution_count": null,
   "metadata": {},
   "outputs": [],
   "source": [
    "r.flushdb()"
   ]
  },
  {
   "cell_type": "markdown",
   "metadata": {},
   "source": [
    "### Database structure"
   ]
  },
  {
   "cell_type": "code",
   "execution_count": null,
   "metadata": {},
   "outputs": [],
   "source": [
    "r.hset('campos', 'A0', 'INTEGER NOT NULL')\n",
    "r.hset('campos', 'A1', 'INTEGER')\n",
    "r.hset('campos', 'A2', 'NUMERIC')\n",
    "r.hset('campos', 'A3', 'NVARCHAR')\n",
    "r.hset('campos', 'A4', 'VARCHAR')\n",
    "r.hset('campos', 'A5', 'TIME')\n",
    "r.hset('campos', 'A6', 'DATE')"
   ]
  },
  {
   "cell_type": "code",
   "execution_count": null,
   "metadata": {},
   "outputs": [],
   "source": [
    "r.hkeys('campos')"
   ]
  },
  {
   "cell_type": "code",
   "execution_count": null,
   "metadata": {},
   "outputs": [],
   "source": [
    "r.hvals('campos')"
   ]
  },
  {
   "cell_type": "code",
   "execution_count": null,
   "metadata": {},
   "outputs": [],
   "source": [
    "r.hgetall('campos')"
   ]
  },
  {
   "cell_type": "markdown",
   "metadata": {},
   "source": [
    "### Time lists"
   ]
  },
  {
   "cell_type": "code",
   "execution_count": 3,
   "metadata": {},
   "outputs": [],
   "source": [
    "insert_time = []\n",
    "sel_time = []\n",
    "up_time = []\n",
    "del_time = []"
   ]
  },
  {
   "cell_type": "code",
   "execution_count": 4,
   "metadata": {},
   "outputs": [],
   "source": [
    "NBLOCK = 60\n",
    "BLOCK = 500000"
   ]
  },
  {
   "cell_type": "markdown",
   "metadata": {},
   "source": [
    "## Insert"
   ]
  },
  {
   "cell_type": "code",
   "execution_count": 5,
   "metadata": {},
   "outputs": [],
   "source": [
    "def insert():\n",
    "    initial_time = time.time()\n",
    "\n",
    "    for i in range(BLOCK):\n",
    "        r.hset('table' + str(i), 'A0', i)\n",
    "        r.hset('table' + str(i), 'A1', '1')\n",
    "        r.hset('table' + str(i), 'A2', '1.2')\n",
    "        r.hset('table' + str(i), 'A3', 'aaaaa')\n",
    "        r.hset('table' + str(i), 'A4', 'aaaaa')\n",
    "        r.hset('table' + str(i), 'A5', '11:11:11')\n",
    "        r.hset('table' + str(i), 'A6', '2007-09-23')\n",
    "\n",
    "    final_time = time.time()\n",
    "    return final_time - initial_time"
   ]
  },
  {
   "cell_type": "code",
   "execution_count": 6,
   "metadata": {},
   "outputs": [
    {
     "name": "stdout",
     "output_type": "stream",
     "text": [
      "0 - 241.47584223747253\n",
      "1 - 300.769828081131\n",
      "2 - 313.31498312950134\n",
      "3 - 256.2101707458496\n",
      "4 - 242.41069269180298\n",
      "5 - 304.9422516822815\n",
      "6 - 375.76811695098877\n",
      "7 - 302.82510447502136\n",
      "8 - 241.37659430503845\n",
      "9 - 385.4895918369293\n",
      "10 - 413.21199011802673\n",
      "11 - 320.7473123073578\n",
      "12 - 311.6552503108978\n",
      "13 - 444.8988335132599\n",
      "14 - 239.84029817581177\n",
      "15 - 239.88741374015808\n",
      "16 - 238.41199159622192\n",
      "17 - 240.590678691864\n",
      "18 - 241.8327775001526\n",
      "19 - 244.05612421035767\n",
      "20 - 243.89997911453247\n",
      "21 - 243.6822531223297\n",
      "22 - 239.87335109710693\n",
      "23 - 244.0389723777771\n",
      "24 - 242.48960494995117\n",
      "25 - 239.52785992622375\n",
      "26 - 239.7581286430359\n",
      "27 - 244.5283603668213\n",
      "28 - 244.02601194381714\n",
      "29 - 244.63808917999268\n",
      "30 - 243.78950262069702\n",
      "31 - 248.46367239952087\n",
      "32 - 241.56425857543945\n",
      "33 - 241.32913947105408\n",
      "34 - 244.26137256622314\n",
      "35 - 242.99202370643616\n",
      "36 - 242.97608923912048\n",
      "37 - 244.30649423599243\n",
      "38 - 242.97474932670593\n",
      "39 - 240.6076557636261\n",
      "40 - 242.66443920135498\n",
      "41 - 244.30614852905273\n",
      "42 - 244.2640664577484\n",
      "43 - 244.40120148658752\n",
      "44 - 244.9492483139038\n",
      "45 - 244.62241220474243\n",
      "46 - 244.29341673851013\n",
      "47 - 241.8451271057129\n",
      "48 - 247.6334285736084\n",
      "49 - 247.7086968421936\n",
      "50 - 247.23974776268005\n",
      "51 - 248.58344721794128\n",
      "52 - 246.22416996955872\n",
      "53 - 246.52243852615356\n",
      "54 - 243.9328453540802\n",
      "55 - 243.63305950164795\n",
      "56 - 244.56008410453796\n",
      "57 - 241.90829133987427\n",
      "58 - 247.90538787841797\n",
      "59 - 244.73986744880676\n"
     ]
    }
   ],
   "source": [
    "for i in range(NBLOCK):\n",
    "    s = insert()\n",
    "    insert_time.append(s)\n",
    "    print(f'{i} - {s}')"
   ]
  },
  {
   "cell_type": "code",
   "execution_count": 26,
   "metadata": {},
   "outputs": [],
   "source": [
    "with open('duration.csv', 'w', newline='') as csvfile:\n",
    "    writer = csv.writer(csvfile, delimiter=';')\n",
    "    writer.writerow(['Insert', 'Select', 'Update', 'Delete'])\n",
    "    for i in insert_time:\n",
    "        writer.writerow([i])"
   ]
  },
  {
   "cell_type": "markdown",
   "metadata": {},
   "source": [
    "## Select"
   ]
  },
  {
   "cell_type": "code",
   "execution_count": 8,
   "metadata": {},
   "outputs": [],
   "source": [
    "def select():\n",
    "    initial_time = time.time()\n",
    "\n",
    "    for i in range(BLOCK):\n",
    "        r.hget('table' + str(i), 'A0')\n",
    "        r.hget('table' + str(i), 'A1')\n",
    "        r.hget('table' + str(i), 'A2')\n",
    "        r.hget('table' + str(i), 'A3')\n",
    "        r.hget('table' + str(i), 'A4')\n",
    "        r.hget('table' + str(i), 'A5')\n",
    "        r.hget('table' + str(i), 'A6')\n",
    "\n",
    "    final_time = time.time()\n",
    "    return final_time - initial_time"
   ]
  },
  {
   "cell_type": "code",
   "execution_count": 9,
   "metadata": {
    "scrolled": true
   },
   "outputs": [
    {
     "name": "stdout",
     "output_type": "stream",
     "text": [
      "0 - 234.14240550994873\n",
      "1 - 234.1948926448822\n",
      "2 - 233.96008491516113\n",
      "3 - 234.08506417274475\n",
      "4 - 233.93076157569885\n",
      "5 - 234.01899218559265\n",
      "6 - 234.0540702342987\n",
      "7 - 234.0065062046051\n",
      "8 - 234.1631736755371\n",
      "9 - 234.14770913124084\n",
      "10 - 234.10375046730042\n",
      "11 - 234.25702691078186\n",
      "12 - 233.87948393821716\n",
      "13 - 234.11607241630554\n",
      "14 - 234.14853167533875\n",
      "15 - 234.09845185279846\n",
      "16 - 234.07156991958618\n",
      "17 - 234.10018157958984\n",
      "18 - 233.9136996269226\n",
      "19 - 234.09885668754578\n",
      "20 - 234.18910098075867\n",
      "21 - 234.0146861076355\n",
      "22 - 234.06940293312073\n",
      "23 - 233.9580271244049\n",
      "24 - 234.25780391693115\n",
      "25 - 234.11564564704895\n",
      "26 - 234.0367875099182\n",
      "27 - 233.819167137146\n",
      "28 - 233.92823719978333\n",
      "29 - 233.9739532470703\n",
      "30 - 234.2422387599945\n",
      "31 - 233.99108004570007\n",
      "32 - 234.14825654029846\n",
      "33 - 234.0529820919037\n",
      "34 - 233.960351228714\n",
      "35 - 234.07020115852356\n",
      "36 - 233.95846104621887\n",
      "37 - 234.00760555267334\n",
      "38 - 233.78482723236084\n",
      "39 - 234.05449986457825\n",
      "40 - 233.89687633514404\n",
      "41 - 233.69385290145874\n",
      "42 - 233.88046646118164\n",
      "43 - 233.7039978504181\n",
      "44 - 233.6796646118164\n",
      "45 - 233.89931511878967\n",
      "46 - 233.9615020751953\n",
      "47 - 234.03643035888672\n",
      "48 - 234.27479004859924\n",
      "49 - 234.00297808647156\n",
      "50 - 233.99482917785645\n",
      "51 - 234.16152215003967\n",
      "52 - 233.95885586738586\n",
      "53 - 234.13435912132263\n",
      "54 - 233.6444070339203\n",
      "55 - 233.78826689720154\n",
      "56 - 233.97396874427795\n",
      "57 - 233.9762351512909\n",
      "58 - 234.02031683921814\n",
      "59 - 234.16334581375122\n"
     ]
    }
   ],
   "source": [
    "for i in range(NBLOCK):\n",
    "    s = select()\n",
    "    sel_time.append(s)\n",
    "    print(f'{i} - {s}')"
   ]
  },
  {
   "cell_type": "code",
   "execution_count": 53,
   "metadata": {},
   "outputs": [],
   "source": [
    "with open('duration.csv', 'w', newline='') as csvfile:\n",
    "    writer = csv.writer(csvfile, delimiter=';')\n",
    "    writer.writerow(['Insert', 'Select', 'Update', 'Delete'])\n",
    "    writer.writerows(zip(insert_time, sel_time))"
   ]
  },
  {
   "cell_type": "markdown",
   "metadata": {},
   "source": [
    "## Update"
   ]
  },
  {
   "cell_type": "code",
   "execution_count": 60,
   "metadata": {},
   "outputs": [],
   "source": [
    "def update():\n",
    "    initial_time = time.time()\n",
    "\n",
    "    for i in range(BLOCK):\n",
    "        r.hset('table' + str(i), 'A0', i)\n",
    "        r.hset('table' + str(i), 'A1', '2')\n",
    "        r.hset('table' + str(i), 'A2', '2.2')\n",
    "        r.hset('table' + str(i), 'A3', 'aaaaaa')\n",
    "        r.hset('table' + str(i), 'A4', 'bbbbb')\n",
    "        r.hset('table' + str(i), 'A5', '22:22:22')\n",
    "        r.hset('table' + str(i), 'A6', '2017-09-23')\n",
    "\n",
    "    final_time = time.time()\n",
    "    return final_time - initial_time"
   ]
  },
  {
   "cell_type": "code",
   "execution_count": null,
   "metadata": {},
   "outputs": [
    {
     "name": "stdout",
     "output_type": "stream",
     "text": [
      "0 - 251.56025385856628\n"
     ]
    }
   ],
   "source": [
    "for i in range(NBLOCK):\n",
    "    s = update()\n",
    "    up_time.append(s)\n",
    "    print(f'{i} - {s}')"
   ]
  },
  {
   "cell_type": "code",
   "execution_count": null,
   "metadata": {},
   "outputs": [],
   "source": [
    "with open('duration.csv', 'w', newline='') as csvfile:\n",
    "    writer = csv.writer(csvfile, delimiter=';')\n",
    "    writer.writerow(['Insert', 'Select', 'Update', 'Delete'])\n",
    "    writer.writerows(zip(insert_time, sel_time, up_time))"
   ]
  },
  {
   "cell_type": "markdown",
   "metadata": {},
   "source": [
    "## All at once"
   ]
  },
  {
   "cell_type": "code",
   "execution_count": null,
   "metadata": {},
   "outputs": [],
   "source": [
    "def operation():\n",
    "    initial_time = time.time()\n",
    "\n",
    "    for i in range(BLOCK):\n",
    "        r.hset('table' + str(i), 'A0', i)\n",
    "        r.hset('table' + str(i), 'A1', '1')\n",
    "        r.hset('table' + str(i), 'A2', '1.2')\n",
    "        r.hset('table' + str(i), 'A3', 'aaaaa')\n",
    "        r.hset('table' + str(i), 'A4', 'aaaaa')\n",
    "        r.hset('table' + str(i), 'A5', '11:11:11')\n",
    "        r.hset('table' + str(i), 'A6', '2007-09-23')\n",
    "        \n",
    "        r.hget('table' + str(i), 'A0')\n",
    "        r.hget('table' + str(i), 'A1')\n",
    "        r.hget('table' + str(i), 'A2')\n",
    "        r.hget('table' + str(i), 'A3')\n",
    "        r.hget('table' + str(i), 'A4')\n",
    "        r.hget('table' + str(i), 'A5')\n",
    "        r.hget('table' + str(i), 'A6')\n",
    "        \n",
    "        r.hset('table' + str(i), 'A0', i+1)\n",
    "        r.hset('table' + str(i), 'A1', '2')\n",
    "        r.hset('table' + str(i), 'A2', '2.2')\n",
    "        r.hset('table' + str(i), 'A3', 'aaaaaa')\n",
    "        r.hset('table' + str(i), 'A4', 'bbbbb')\n",
    "        r.hset('table' + str(i), 'A5', '22:22:22')\n",
    "        r.hset('table' + str(i), 'A6', '2017-09-23')\n",
    "        \n",
    "    final_time = time.time()\n",
    "    return final_time - initial_time"
   ]
  },
  {
   "cell_type": "code",
   "execution_count": null,
   "metadata": {},
   "outputs": [],
   "source": [
    "op_time = []\n",
    "for i in range(NBLOCK):\n",
    "    s = update()\n",
    "    op_time.append(s)\n",
    "    print(f'{i} - {s}')"
   ]
  },
  {
   "cell_type": "code",
   "execution_count": null,
   "metadata": {},
   "outputs": [],
   "source": [
    "with open('duration.csv', 'w', newline='') as csvfile:\n",
    "    writer = csv.writer(csvfile, delimiter=';')\n",
    "    writer.writerow(['Insert', 'Select', 'Update', 'Delete'])\n",
    "    writer.writerows(zip(insert_time, sel_time, up_time))"
   ]
  }
 ],
 "metadata": {
  "kernelspec": {
   "display_name": "Python 3",
   "language": "python",
   "name": "python3"
  },
  "language_info": {
   "codemirror_mode": {
    "name": "ipython",
    "version": 3
   },
   "file_extension": ".py",
   "mimetype": "text/x-python",
   "name": "python",
   "nbconvert_exporter": "python",
   "pygments_lexer": "ipython3",
   "version": "3.7.1"
  }
 },
 "nbformat": 4,
 "nbformat_minor": 2
}
