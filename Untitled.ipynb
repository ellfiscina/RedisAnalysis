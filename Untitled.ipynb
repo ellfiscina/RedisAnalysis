{
 "cells": [
  {
   "cell_type": "markdown",
   "metadata": {},
   "source": [
    "# Sintetic Software Used To Analyze of Redis' Performance"
   ]
  },
  {
   "cell_type": "code",
   "execution_count": 1,
   "metadata": {},
   "outputs": [],
   "source": [
    "import redis\n",
    "import time\n",
    "import csv"
   ]
  },
  {
   "cell_type": "markdown",
   "metadata": {},
   "source": [
    "## Database configuration"
   ]
  },
  {
   "cell_type": "code",
   "execution_count": 2,
   "metadata": {},
   "outputs": [],
   "source": [
    "r = redis.Redis(host='localhost', port=6379, db=0)"
   ]
  },
  {
   "cell_type": "code",
   "execution_count": 15,
   "metadata": {},
   "outputs": [
    {
     "data": {
      "text/plain": [
       "True"
      ]
     },
     "execution_count": 15,
     "metadata": {},
     "output_type": "execute_result"
    }
   ],
   "source": [
    "r.flushdb()"
   ]
  },
  {
   "cell_type": "markdown",
   "metadata": {},
   "source": [
    "### Database structure"
   ]
  },
  {
   "cell_type": "code",
   "execution_count": null,
   "metadata": {},
   "outputs": [],
   "source": [
    "r.hset('campos', 'A0', 'INTEGER NOT NULL')\n",
    "r.hset('campos', 'A1', 'INTEGER')\n",
    "r.hset('campos', 'A2', 'NUMERIC')\n",
    "r.hset('campos', 'A3', 'NVARCHAR')\n",
    "r.hset('campos', 'A4', 'VARCHAR')\n",
    "r.hset('campos', 'A5', 'TIME')\n",
    "r.hset('campos', 'A6', 'DATE')"
   ]
  },
  {
   "cell_type": "code",
   "execution_count": null,
   "metadata": {},
   "outputs": [],
   "source": [
    "r.hkeys('campos')"
   ]
  },
  {
   "cell_type": "code",
   "execution_count": null,
   "metadata": {},
   "outputs": [],
   "source": [
    "r.hvals('campos')"
   ]
  },
  {
   "cell_type": "code",
   "execution_count": null,
   "metadata": {},
   "outputs": [],
   "source": [
    "r.hgetall('campos')"
   ]
  },
  {
   "cell_type": "markdown",
   "metadata": {},
   "source": [
    "### Time lists"
   ]
  },
  {
   "cell_type": "code",
   "execution_count": 6,
   "metadata": {},
   "outputs": [],
   "source": [
    "insert_time = []\n",
    "sel_time = []\n",
    "up_time = []\n",
    "op_time = []"
   ]
  },
  {
   "cell_type": "code",
   "execution_count": 7,
   "metadata": {},
   "outputs": [],
   "source": [
    "NBLOCK = 60\n",
    "BLOCK = 500000"
   ]
  },
  {
   "cell_type": "markdown",
   "metadata": {},
   "source": [
    "## Insert"
   ]
  },
  {
   "cell_type": "code",
   "execution_count": 17,
   "metadata": {},
   "outputs": [],
   "source": [
    "def insert():\n",
    "    initial_time = time.time()\n",
    "\n",
    "    for i in range(BLOCK):\n",
    "        r.hset('table' + str(i), 'A0', i)\n",
    "        r.hset('table' + str(i), 'A1', '1')\n",
    "        r.hset('table' + str(i), 'A2', '1.2')\n",
    "        r.hset('table' + str(i), 'A3', 'aaaaa')\n",
    "        r.hset('table' + str(i), 'A4', 'aaaaa')\n",
    "        r.hset('table' + str(i), 'A5', '11:11:11')\n",
    "        r.hset('table' + str(i), 'A6', '2007-09-23')\n",
    "\n",
    "    final_time = time.time()\n",
    "    return final_time - initial_time"
   ]
  },
  {
   "cell_type": "code",
   "execution_count": 6,
   "metadata": {
    "scrolled": true
   },
   "outputs": [
    {
     "name": "stdout",
     "output_type": "stream",
     "text": [
      "0 - 241.47584223747253\n",
      "1 - 300.769828081131\n",
      "2 - 313.31498312950134\n",
      "3 - 256.2101707458496\n",
      "4 - 242.41069269180298\n",
      "5 - 304.9422516822815\n",
      "6 - 375.76811695098877\n",
      "7 - 302.82510447502136\n",
      "8 - 241.37659430503845\n",
      "9 - 385.4895918369293\n",
      "10 - 413.21199011802673\n",
      "11 - 320.7473123073578\n",
      "12 - 311.6552503108978\n",
      "13 - 444.8988335132599\n",
      "14 - 239.84029817581177\n",
      "15 - 239.88741374015808\n",
      "16 - 238.41199159622192\n",
      "17 - 240.590678691864\n",
      "18 - 241.8327775001526\n",
      "19 - 244.05612421035767\n",
      "20 - 243.89997911453247\n",
      "21 - 243.6822531223297\n",
      "22 - 239.87335109710693\n",
      "23 - 244.0389723777771\n",
      "24 - 242.48960494995117\n",
      "25 - 239.52785992622375\n",
      "26 - 239.7581286430359\n",
      "27 - 244.5283603668213\n",
      "28 - 244.02601194381714\n",
      "29 - 244.63808917999268\n",
      "30 - 243.78950262069702\n",
      "31 - 248.46367239952087\n",
      "32 - 241.56425857543945\n",
      "33 - 241.32913947105408\n",
      "34 - 244.26137256622314\n",
      "35 - 242.99202370643616\n",
      "36 - 242.97608923912048\n",
      "37 - 244.30649423599243\n",
      "38 - 242.97474932670593\n",
      "39 - 240.6076557636261\n",
      "40 - 242.66443920135498\n",
      "41 - 244.30614852905273\n",
      "42 - 244.2640664577484\n",
      "43 - 244.40120148658752\n",
      "44 - 244.9492483139038\n",
      "45 - 244.62241220474243\n",
      "46 - 244.29341673851013\n",
      "47 - 241.8451271057129\n",
      "48 - 247.6334285736084\n",
      "49 - 247.7086968421936\n",
      "50 - 247.23974776268005\n",
      "51 - 248.58344721794128\n",
      "52 - 246.22416996955872\n",
      "53 - 246.52243852615356\n",
      "54 - 243.9328453540802\n",
      "55 - 243.63305950164795\n",
      "56 - 244.56008410453796\n",
      "57 - 241.90829133987427\n",
      "58 - 247.90538787841797\n",
      "59 - 244.73986744880676\n"
     ]
    }
   ],
   "source": [
    "for i in range(NBLOCK):\n",
    "    s = insert()\n",
    "    insert_time.append(s)\n",
    "    print(f'{i} - {s}')"
   ]
  },
  {
   "cell_type": "code",
   "execution_count": 26,
   "metadata": {},
   "outputs": [],
   "source": [
    "with open('duration.csv', 'w', newline='') as csvfile:\n",
    "    writer = csv.writer(csvfile, delimiter=';')\n",
    "    writer.writerow(['Insert', 'Select', 'Update', 'Delete'])\n",
    "    for i in insert_time:\n",
    "        writer.writerow([i])"
   ]
  },
  {
   "cell_type": "markdown",
   "metadata": {},
   "source": [
    "## Select"
   ]
  },
  {
   "cell_type": "code",
   "execution_count": 18,
   "metadata": {},
   "outputs": [],
   "source": [
    "def select():\n",
    "    initial_time = time.time()\n",
    "\n",
    "    for i in range(BLOCK):\n",
    "        r.hget('table' + str(i), 'A0')\n",
    "        r.hget('table' + str(i), 'A1')\n",
    "        r.hget('table' + str(i), 'A2')\n",
    "        r.hget('table' + str(i), 'A3')\n",
    "        r.hget('table' + str(i), 'A4')\n",
    "        r.hget('table' + str(i), 'A5')\n",
    "        r.hget('table' + str(i), 'A6')\n",
    "\n",
    "    final_time = time.time()\n",
    "    return final_time - initial_time"
   ]
  },
  {
   "cell_type": "code",
   "execution_count": 9,
   "metadata": {
    "scrolled": true
   },
   "outputs": [
    {
     "name": "stdout",
     "output_type": "stream",
     "text": [
      "0 - 234.14240550994873\n",
      "1 - 234.1948926448822\n",
      "2 - 233.96008491516113\n",
      "3 - 234.08506417274475\n",
      "4 - 233.93076157569885\n",
      "5 - 234.01899218559265\n",
      "6 - 234.0540702342987\n",
      "7 - 234.0065062046051\n",
      "8 - 234.1631736755371\n",
      "9 - 234.14770913124084\n",
      "10 - 234.10375046730042\n",
      "11 - 234.25702691078186\n",
      "12 - 233.87948393821716\n",
      "13 - 234.11607241630554\n",
      "14 - 234.14853167533875\n",
      "15 - 234.09845185279846\n",
      "16 - 234.07156991958618\n",
      "17 - 234.10018157958984\n",
      "18 - 233.9136996269226\n",
      "19 - 234.09885668754578\n",
      "20 - 234.18910098075867\n",
      "21 - 234.0146861076355\n",
      "22 - 234.06940293312073\n",
      "23 - 233.9580271244049\n",
      "24 - 234.25780391693115\n",
      "25 - 234.11564564704895\n",
      "26 - 234.0367875099182\n",
      "27 - 233.819167137146\n",
      "28 - 233.92823719978333\n",
      "29 - 233.9739532470703\n",
      "30 - 234.2422387599945\n",
      "31 - 233.99108004570007\n",
      "32 - 234.14825654029846\n",
      "33 - 234.0529820919037\n",
      "34 - 233.960351228714\n",
      "35 - 234.07020115852356\n",
      "36 - 233.95846104621887\n",
      "37 - 234.00760555267334\n",
      "38 - 233.78482723236084\n",
      "39 - 234.05449986457825\n",
      "40 - 233.89687633514404\n",
      "41 - 233.69385290145874\n",
      "42 - 233.88046646118164\n",
      "43 - 233.7039978504181\n",
      "44 - 233.6796646118164\n",
      "45 - 233.89931511878967\n",
      "46 - 233.9615020751953\n",
      "47 - 234.03643035888672\n",
      "48 - 234.27479004859924\n",
      "49 - 234.00297808647156\n",
      "50 - 233.99482917785645\n",
      "51 - 234.16152215003967\n",
      "52 - 233.95885586738586\n",
      "53 - 234.13435912132263\n",
      "54 - 233.6444070339203\n",
      "55 - 233.78826689720154\n",
      "56 - 233.97396874427795\n",
      "57 - 233.9762351512909\n",
      "58 - 234.02031683921814\n",
      "59 - 234.16334581375122\n"
     ]
    }
   ],
   "source": [
    "for i in range(NBLOCK):\n",
    "    s = select()\n",
    "    sel_time.append(s)\n",
    "    print(f'{i} - {s}')"
   ]
  },
  {
   "cell_type": "code",
   "execution_count": 53,
   "metadata": {},
   "outputs": [],
   "source": [
    "with open('duration.csv', 'w', newline='') as csvfile:\n",
    "    writer = csv.writer(csvfile, delimiter=';')\n",
    "    writer.writerow(['Insert', 'Select', 'Update', 'Delete'])\n",
    "    writer.writerows(zip(insert_time, sel_time))"
   ]
  },
  {
   "cell_type": "markdown",
   "metadata": {},
   "source": [
    "## Update"
   ]
  },
  {
   "cell_type": "code",
   "execution_count": 19,
   "metadata": {},
   "outputs": [],
   "source": [
    "def update():\n",
    "    initial_time = time.time()\n",
    "\n",
    "    for i in range(BLOCK):\n",
    "        r.hset('table' + str(i), 'A0', i)\n",
    "        r.hset('table' + str(i), 'A1', '2')\n",
    "        r.hset('table' + str(i), 'A2', '2.2')\n",
    "        r.hset('table' + str(i), 'A3', 'aaaaaa')\n",
    "        r.hset('table' + str(i), 'A4', 'bbbbb')\n",
    "        r.hset('table' + str(i), 'A5', '22:22:22')\n",
    "        r.hset('table' + str(i), 'A6', '2017-09-23')\n",
    "\n",
    "    final_time = time.time()\n",
    "    return final_time - initial_time"
   ]
  },
  {
   "cell_type": "code",
   "execution_count": 9,
   "metadata": {
    "scrolled": true
   },
   "outputs": [
    {
     "name": "stdout",
     "output_type": "stream",
     "text": [
      "0 - 250.93397760391235\n",
      "1 - 250.30001664161682\n",
      "2 - 249.17756295204163\n",
      "3 - 245.24344968795776\n",
      "4 - 244.65035247802734\n",
      "5 - 245.00691843032837\n",
      "6 - 241.8888475894928\n",
      "7 - 245.03860712051392\n",
      "8 - 244.33272504806519\n",
      "9 - 245.8822340965271\n",
      "10 - 244.40063738822937\n",
      "11 - 244.49413657188416\n",
      "12 - 242.9803376197815\n",
      "13 - 244.41120648384094\n",
      "14 - 241.69986367225647\n",
      "15 - 245.02991366386414\n",
      "16 - 244.5003764629364\n",
      "17 - 252.15276193618774\n",
      "18 - 246.24263262748718\n",
      "19 - 244.74806332588196\n",
      "20 - 244.324853181839\n",
      "21 - 245.0116250514984\n",
      "22 - 244.54766082763672\n",
      "23 - 244.90125727653503\n",
      "24 - 241.9875202178955\n",
      "25 - 244.27859783172607\n",
      "26 - 244.51361560821533\n",
      "27 - 242.88040232658386\n",
      "28 - 244.99525618553162\n",
      "29 - 245.93974709510803\n",
      "30 - 244.71570229530334\n",
      "31 - 244.91989850997925\n",
      "32 - 241.73662042617798\n",
      "33 - 244.62341022491455\n",
      "34 - 244.02529430389404\n",
      "35 - 244.7156355381012\n",
      "36 - 244.5110113620758\n",
      "37 - 244.60790634155273\n",
      "38 - 244.8883137702942\n",
      "39 - 250.33938145637512\n",
      "40 - 256.87543058395386\n",
      "41 - 257.28980827331543\n",
      "42 - 259.2162299156189\n",
      "43 - 260.90752720832825\n",
      "44 - 257.5666618347168\n",
      "45 - 250.99937963485718\n",
      "46 - 250.6710135936737\n",
      "47 - 246.44736981391907\n",
      "48 - 244.2472801208496\n",
      "49 - 245.12045454978943\n",
      "50 - 244.12145900726318\n",
      "51 - 242.26945209503174\n",
      "52 - 244.38592147827148\n",
      "53 - 244.9939820766449\n",
      "54 - 244.3309919834137\n",
      "55 - 244.51089811325073\n",
      "56 - 245.84975790977478\n",
      "57 - 245.84902620315552\n",
      "58 - 246.39458227157593\n",
      "59 - 245.55924606323242\n"
     ]
    }
   ],
   "source": [
    "for i in range(NBLOCK):\n",
    "    s = update()\n",
    "    up_time.append(s)\n",
    "    print(f'{i} - {s}')"
   ]
  },
  {
   "cell_type": "code",
   "execution_count": 12,
   "metadata": {},
   "outputs": [],
   "source": [
    "with open('duration.csv', 'r') as csvfile:\n",
    "    reader = csv.reader(csvfile, delimiter=';')\n",
    "    \n",
    "    for index, row in enumerate(reader):\n",
    "        if index > 0:\n",
    "            insert_time.append(row[0])\n",
    "            sel_time.append(row[1])"
   ]
  },
  {
   "cell_type": "code",
   "execution_count": 14,
   "metadata": {},
   "outputs": [],
   "source": [
    "with open('duration.csv', 'w', newline='') as csvfile:\n",
    "    writer = csv.writer(csvfile, delimiter=';')\n",
    "    writer.writerow(['Insert', 'Select', 'Update'])\n",
    "    writer.writerows(zip(insert_time, sel_time, up_time))"
   ]
  },
  {
   "cell_type": "markdown",
   "metadata": {},
   "source": [
    "## All at once"
   ]
  },
  {
   "cell_type": "code",
   "execution_count": 16,
   "metadata": {},
   "outputs": [
    {
     "ename": "NameError",
     "evalue": "name 'insert' is not defined",
     "output_type": "error",
     "traceback": [
      "\u001b[1;31m---------------------------------------------------------------------------\u001b[0m",
      "\u001b[1;31mNameError\u001b[0m                                 Traceback (most recent call last)",
      "\u001b[1;32m<ipython-input-16-80b246d5b57a>\u001b[0m in \u001b[0;36m<module>\u001b[1;34m\u001b[0m\n\u001b[0;32m      1\u001b[0m \u001b[0mtime_dict\u001b[0m \u001b[1;33m=\u001b[0m \u001b[1;33m{\u001b[0m\u001b[1;33m}\u001b[0m\u001b[1;33m\u001b[0m\u001b[1;33m\u001b[0m\u001b[0m\n\u001b[0;32m      2\u001b[0m \u001b[1;32mfor\u001b[0m \u001b[0mi\u001b[0m \u001b[1;32min\u001b[0m \u001b[0mrange\u001b[0m\u001b[1;33m(\u001b[0m\u001b[0mNBLOCK\u001b[0m\u001b[1;33m)\u001b[0m\u001b[1;33m:\u001b[0m\u001b[1;33m\u001b[0m\u001b[1;33m\u001b[0m\u001b[0m\n\u001b[1;32m----> 3\u001b[1;33m     \u001b[0mtime_dict\u001b[0m\u001b[1;33m[\u001b[0m\u001b[1;34m'insert'\u001b[0m\u001b[1;33m]\u001b[0m \u001b[1;33m=\u001b[0m \u001b[0minsert\u001b[0m\u001b[1;33m(\u001b[0m\u001b[1;33m)\u001b[0m\u001b[1;33m\u001b[0m\u001b[1;33m\u001b[0m\u001b[0m\n\u001b[0m\u001b[0;32m      4\u001b[0m     \u001b[0mtime_dict\u001b[0m\u001b[1;33m[\u001b[0m\u001b[1;34m'select'\u001b[0m\u001b[1;33m]\u001b[0m \u001b[1;33m=\u001b[0m \u001b[0mselect\u001b[0m\u001b[1;33m(\u001b[0m\u001b[1;33m)\u001b[0m\u001b[1;33m\u001b[0m\u001b[1;33m\u001b[0m\u001b[0m\n\u001b[0;32m      5\u001b[0m     \u001b[0mtime_dict\u001b[0m\u001b[1;33m[\u001b[0m\u001b[1;34m'update'\u001b[0m\u001b[1;33m]\u001b[0m \u001b[1;33m=\u001b[0m \u001b[0mupdate\u001b[0m\u001b[1;33m(\u001b[0m\u001b[1;33m)\u001b[0m\u001b[1;33m\u001b[0m\u001b[1;33m\u001b[0m\u001b[0m\n",
      "\u001b[1;31mNameError\u001b[0m: name 'insert' is not defined"
     ]
    }
   ],
   "source": [
    "time_dict = {}\n",
    "for i in range(NBLOCK):\n",
    "    time_dict['insert'] = insert()\n",
    "    time_dict['select'] = select()\n",
    "    time_dict['update'] = update()\n",
    "    \n",
    "    op_time.append(time_dict)\n",
    "    print(f'{i} - {time_dict}')"
   ]
  },
  {
   "cell_type": "code",
   "execution_count": null,
   "metadata": {},
   "outputs": [],
   "source": [
    "keys = op_time[0].keys() \n",
    "with open('op_duration.csv', 'w', newline='') as csvfile:\n",
    "    dict_writer = csv.DictWriter(csvfile, keys)\n",
    "    dict_writer.writeheader()\n",
    "    dict_writer.writerows(op_time)"
   ]
  }
 ],
 "metadata": {
  "kernelspec": {
   "display_name": "Python 3",
   "language": "python",
   "name": "python3"
  },
  "language_info": {
   "codemirror_mode": {
    "name": "ipython",
    "version": 3
   },
   "file_extension": ".py",
   "mimetype": "text/x-python",
   "name": "python",
   "nbconvert_exporter": "python",
   "pygments_lexer": "ipython3",
   "version": "3.7.1"
  }
 },
 "nbformat": 4,
 "nbformat_minor": 2
}
