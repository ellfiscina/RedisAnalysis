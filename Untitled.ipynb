{
 "cells": [
  {
   "cell_type": "markdown",
   "metadata": {},
   "source": [
    "# Sintetic Software Used To Analyze of Redis' Performance"
   ]
  },
  {
   "cell_type": "code",
   "execution_count": 46,
   "metadata": {},
   "outputs": [],
   "source": [
    "import redis\n",
    "import time\n",
    "import csv\n",
    "import pandas as pd\n",
    "import matplotlib\n",
    "import matplotlib.pyplot as plt"
   ]
  },
  {
   "cell_type": "markdown",
   "metadata": {},
   "source": [
    "## Configuration"
   ]
  },
  {
   "cell_type": "code",
   "execution_count": 2,
   "metadata": {},
   "outputs": [],
   "source": [
    "r = redis.Redis(host='localhost', port=6379, db=0)"
   ]
  },
  {
   "cell_type": "code",
   "execution_count": 3,
   "metadata": {},
   "outputs": [
    {
     "data": {
      "text/plain": [
       "True"
      ]
     },
     "execution_count": 3,
     "metadata": {},
     "output_type": "execute_result"
    }
   ],
   "source": [
    "r.flushdb()"
   ]
  },
  {
   "cell_type": "markdown",
   "metadata": {},
   "source": [
    "### Database structure"
   ]
  },
  {
   "cell_type": "code",
   "execution_count": null,
   "metadata": {},
   "outputs": [],
   "source": [
    "r.hset('campos', 'A0', 'INTEGER NOT NULL')\n",
    "r.hset('campos', 'A1', 'INTEGER')\n",
    "r.hset('campos', 'A2', 'NUMERIC')\n",
    "r.hset('campos', 'A3', 'NVARCHAR')\n",
    "r.hset('campos', 'A4', 'VARCHAR')\n",
    "r.hset('campos', 'A5', 'TIME')\n",
    "r.hset('campos', 'A6', 'DATE')"
   ]
  },
  {
   "cell_type": "code",
   "execution_count": null,
   "metadata": {},
   "outputs": [],
   "source": [
    "r.hkeys('campos')"
   ]
  },
  {
   "cell_type": "code",
   "execution_count": null,
   "metadata": {},
   "outputs": [],
   "source": [
    "r.hvals('campos')"
   ]
  },
  {
   "cell_type": "code",
   "execution_count": null,
   "metadata": {},
   "outputs": [],
   "source": [
    "r.hgetall('campos')"
   ]
  },
  {
   "cell_type": "markdown",
   "metadata": {},
   "source": [
    "### Time lists"
   ]
  },
  {
   "cell_type": "code",
   "execution_count": 4,
   "metadata": {},
   "outputs": [],
   "source": [
    "insert_time = []\n",
    "sel_time = []\n",
    "up_time = []"
   ]
  },
  {
   "cell_type": "code",
   "execution_count": 5,
   "metadata": {},
   "outputs": [],
   "source": [
    "NBLOCK = 60\n",
    "BLOCK = 500000"
   ]
  },
  {
   "cell_type": "markdown",
   "metadata": {},
   "source": [
    "## Operations"
   ]
  },
  {
   "cell_type": "markdown",
   "metadata": {},
   "source": [
    "### Insert"
   ]
  },
  {
   "cell_type": "code",
   "execution_count": 6,
   "metadata": {},
   "outputs": [],
   "source": [
    "def insert():\n",
    "    initial_time = time.time()\n",
    "\n",
    "    for i in range(BLOCK):\n",
    "        r.hset('table' + str(i), 'A0', i)\n",
    "        r.hset('table' + str(i), 'A1', '1')\n",
    "        r.hset('table' + str(i), 'A2', '1.2')\n",
    "        r.hset('table' + str(i), 'A3', 'aaaaa')\n",
    "        r.hset('table' + str(i), 'A4', 'aaaaa')\n",
    "        r.hset('table' + str(i), 'A5', '11:11:11')\n",
    "        r.hset('table' + str(i), 'A6', '2007-09-23')\n",
    "\n",
    "    final_time = time.time()\n",
    "    return final_time - initial_time"
   ]
  },
  {
   "cell_type": "markdown",
   "metadata": {},
   "source": [
    "### Select"
   ]
  },
  {
   "cell_type": "code",
   "execution_count": 7,
   "metadata": {},
   "outputs": [],
   "source": [
    "def select():\n",
    "    initial_time = time.time()\n",
    "\n",
    "    for i in range(BLOCK):\n",
    "        r.hget('table' + str(i), 'A0')\n",
    "        r.hget('table' + str(i), 'A1')\n",
    "        r.hget('table' + str(i), 'A2')\n",
    "        r.hget('table' + str(i), 'A3')\n",
    "        r.hget('table' + str(i), 'A4')\n",
    "        r.hget('table' + str(i), 'A5')\n",
    "        r.hget('table' + str(i), 'A6')\n",
    "\n",
    "    final_time = time.time()\n",
    "    return final_time - initial_time"
   ]
  },
  {
   "cell_type": "markdown",
   "metadata": {},
   "source": [
    "### Update"
   ]
  },
  {
   "cell_type": "code",
   "execution_count": 8,
   "metadata": {},
   "outputs": [],
   "source": [
    "def update():\n",
    "    initial_time = time.time()\n",
    "\n",
    "    for i in range(BLOCK):\n",
    "        r.hset('table' + str(i), 'A0', i)\n",
    "        r.hset('table' + str(i), 'A1', '2')\n",
    "        r.hset('table' + str(i), 'A2', '2.2')\n",
    "        r.hset('table' + str(i), 'A3', 'aaaaaa')\n",
    "        r.hset('table' + str(i), 'A4', 'bbbbb')\n",
    "        r.hset('table' + str(i), 'A5', '22:22:22')\n",
    "        r.hset('table' + str(i), 'A6', '2017-09-23')\n",
    "\n",
    "    final_time = time.time()\n",
    "    return final_time - initial_time"
   ]
  },
  {
   "cell_type": "markdown",
   "metadata": {},
   "source": [
    "## Run operations"
   ]
  },
  {
   "cell_type": "code",
   "execution_count": 9,
   "metadata": {},
   "outputs": [
    {
     "name": "stdout",
     "output_type": "stream",
     "text": [
      "0\n",
      "243.26420974731445\n",
      "237.81648540496826\n",
      "247.49983072280884\n",
      "-----------\n",
      "1\n",
      "247.6038055419922\n",
      "237.94240832328796\n",
      "247.6546585559845\n",
      "-----------\n",
      "2\n",
      "255.44548559188843\n",
      "235.57777047157288\n",
      "247.15512371063232\n",
      "-----------\n",
      "3\n",
      "246.54174041748047\n",
      "236.26833820343018\n",
      "244.0175404548645\n",
      "-----------\n",
      "4\n",
      "246.52506232261658\n",
      "238.99700450897217\n",
      "246.60136818885803\n",
      "-----------\n",
      "5\n",
      "243.82764387130737\n",
      "238.4361391067505\n",
      "243.70227789878845\n",
      "-----------\n",
      "6\n",
      "246.6300847530365\n",
      "239.68842196464539\n",
      "247.44466352462769\n",
      "-----------\n",
      "7\n",
      "243.68746662139893\n",
      "239.6123719215393\n",
      "243.89527988433838\n",
      "-----------\n",
      "8\n",
      "247.05182099342346\n",
      "239.64479041099548\n",
      "246.89443492889404\n",
      "-----------\n",
      "9\n",
      "244.08160591125488\n",
      "240.05302238464355\n",
      "243.86379384994507\n",
      "-----------\n",
      "10\n",
      "246.66510367393494\n",
      "239.26709604263306\n",
      "254.02756643295288\n",
      "-----------\n",
      "11\n",
      "243.08341073989868\n",
      "240.29509925842285\n",
      "244.36368107795715\n",
      "-----------\n",
      "12\n",
      "246.8219678401947\n",
      "238.92276287078857\n",
      "247.71124696731567\n",
      "-----------\n",
      "13\n",
      "244.5384979248047\n",
      "239.3978636264801\n",
      "244.12073469161987\n",
      "-----------\n",
      "14\n",
      "246.84336590766907\n",
      "239.24632692337036\n",
      "246.22084975242615\n",
      "-----------\n",
      "15\n",
      "243.99677729606628\n",
      "239.6827268600464\n",
      "243.34307217597961\n",
      "-----------\n",
      "16\n",
      "246.7973666191101\n",
      "238.91536021232605\n",
      "246.6393473148346\n",
      "-----------\n",
      "17\n",
      "243.9080729484558\n",
      "240.7081778049469\n",
      "244.31789374351501\n",
      "-----------\n",
      "18\n",
      "247.34350442886353\n",
      "239.14397025108337\n",
      "247.30455946922302\n",
      "-----------\n",
      "19\n",
      "243.58349537849426\n",
      "240.03544545173645\n",
      "243.369131565094\n",
      "-----------\n",
      "20\n",
      "247.27911353111267\n",
      "239.23964929580688\n",
      "246.84645795822144\n",
      "-----------\n",
      "21\n",
      "244.5526008605957\n",
      "239.36986923217773\n",
      "243.5859112739563\n",
      "-----------\n",
      "22\n",
      "246.82682013511658\n",
      "239.94551968574524\n",
      "246.84889912605286\n",
      "-----------\n",
      "23\n",
      "243.58680486679077\n",
      "239.11369252204895\n",
      "243.51095938682556\n",
      "-----------\n",
      "24\n",
      "246.71287965774536\n",
      "240.00707244873047\n",
      "246.14957857131958\n",
      "-----------\n",
      "25\n",
      "244.05597400665283\n",
      "238.99592208862305\n",
      "243.99014258384705\n",
      "-----------\n",
      "26\n",
      "246.5129361152649\n",
      "239.73778676986694\n",
      "246.17060661315918\n",
      "-----------\n",
      "27\n",
      "244.06359696388245\n",
      "239.09069299697876\n",
      "244.04673504829407\n",
      "-----------\n",
      "28\n",
      "246.99236798286438\n",
      "240.09390091896057\n",
      "247.1341416835785\n",
      "-----------\n",
      "29\n",
      "244.30141234397888\n",
      "239.48138213157654\n",
      "244.06997632980347\n",
      "-----------\n",
      "30\n",
      "247.30132126808167\n",
      "239.36209511756897\n",
      "247.3258979320526\n",
      "-----------\n",
      "31\n",
      "244.01803493499756\n",
      "239.7632143497467\n",
      "244.04334115982056\n",
      "-----------\n",
      "32\n",
      "246.45236444473267\n",
      "240.09405159950256\n",
      "246.65824627876282\n",
      "-----------\n",
      "33\n",
      "243.80497860908508\n",
      "239.1882095336914\n",
      "243.6993863582611\n",
      "-----------\n",
      "34\n",
      "246.8273286819458\n",
      "240.107839345932\n",
      "246.78608226776123\n",
      "-----------\n",
      "35\n",
      "243.59039783477783\n",
      "239.766681432724\n",
      "243.9525282382965\n",
      "-----------\n",
      "36\n",
      "247.2988724708557\n",
      "240.35419511795044\n",
      "247.08126592636108\n",
      "-----------\n",
      "37\n",
      "243.38541102409363\n",
      "240.13118696212769\n",
      "243.54674124717712\n",
      "-----------\n",
      "38\n",
      "246.64480352401733\n",
      "239.6333692073822\n",
      "247.12257981300354\n",
      "-----------\n",
      "39\n",
      "244.12362575531006\n",
      "239.44031357765198\n",
      "246.9117271900177\n",
      "-----------\n",
      "40\n",
      "244.5332386493683\n",
      "238.6915009021759\n",
      "243.64238452911377\n",
      "-----------\n",
      "41\n",
      "246.89673614501953\n",
      "239.87905740737915\n",
      "246.36537313461304\n",
      "-----------\n",
      "42\n",
      "244.1104860305786\n",
      "240.14313626289368\n",
      "243.7860972881317\n",
      "-----------\n",
      "43\n",
      "246.07353949546814\n",
      "239.18436980247498\n",
      "246.44950437545776\n",
      "-----------\n",
      "44\n",
      "244.32416796684265\n",
      "240.1140959262848\n",
      "244.53846335411072\n",
      "-----------\n",
      "45\n",
      "246.74736738204956\n",
      "240.2491750717163\n",
      "246.977778673172\n",
      "-----------\n",
      "46\n",
      "244.40317940711975\n",
      "239.0603129863739\n",
      "243.9050543308258\n",
      "-----------\n",
      "47\n",
      "247.8831968307495\n",
      "239.29397797584534\n",
      "246.1611351966858\n",
      "-----------\n",
      "48\n",
      "244.41383481025696\n",
      "239.02321195602417\n",
      "243.83215188980103\n",
      "-----------\n",
      "49\n",
      "247.05759263038635\n",
      "239.56265377998352\n",
      "244.11884927749634\n",
      "-----------\n",
      "50\n",
      "246.5345494747162\n",
      "239.2559733390808\n",
      "247.0673267841339\n",
      "-----------\n",
      "51\n",
      "243.806964635849\n",
      "240.11875867843628\n",
      "246.72474765777588\n",
      "-----------\n",
      "52\n",
      "244.31690526008606\n",
      "239.4701795578003\n",
      "243.94008374214172\n",
      "-----------\n",
      "53\n",
      "246.62375855445862\n",
      "240.1179449558258\n",
      "246.9588143825531\n",
      "-----------\n",
      "54\n",
      "244.80032539367676\n",
      "238.9076428413391\n",
      "244.6800684928894\n",
      "-----------\n",
      "55\n",
      "247.06878066062927\n",
      "239.98937511444092\n",
      "246.63890314102173\n",
      "-----------\n",
      "56\n",
      "244.3828194141388\n",
      "239.59928154945374\n",
      "243.95929837226868\n",
      "-----------\n",
      "57\n",
      "247.25313639640808\n",
      "239.09909105300903\n",
      "246.6564064025879\n",
      "-----------\n",
      "58\n",
      "243.45800280570984\n",
      "239.5412380695343\n",
      "243.6155982017517\n",
      "-----------\n",
      "59\n",
      "246.3549463748932\n",
      "239.34471368789673\n",
      "246.35233211517334\n",
      "-----------\n"
     ]
    }
   ],
   "source": [
    "for i in range(NBLOCK):\n",
    "    print(i)\n",
    "    insert_time.append(insert())\n",
    "    print(insert_time[i])\n",
    "    sel_time.append(select())\n",
    "    print(sel_time[i])\n",
    "    up_time.append(update())\n",
    "    print(up_time[i])\n",
    "    print('-----------')"
   ]
  },
  {
   "cell_type": "markdown",
   "metadata": {},
   "source": [
    "### Save time lists to a csv file"
   ]
  },
  {
   "cell_type": "code",
   "execution_count": 30,
   "metadata": {},
   "outputs": [],
   "source": [
    "df = pd.DataFrame(list(zip(insert_time, sel_time, up_time)),\n",
    "                  columns=['Insert','Select', 'Update'])"
   ]
  },
  {
   "cell_type": "code",
   "execution_count": 38,
   "metadata": {},
   "outputs": [],
   "source": [
    "df.to_csv('duration.csv', index=False)"
   ]
  },
  {
   "cell_type": "markdown",
   "metadata": {},
   "source": [
    "## Analysis"
   ]
  },
  {
   "cell_type": "code",
   "execution_count": 47,
   "metadata": {},
   "outputs": [
    {
     "ename": "ImportError",
     "evalue": "matplotlib is required for plotting.",
     "output_type": "error",
     "traceback": [
      "\u001b[1;31m---------------------------------------------------------------------------\u001b[0m",
      "\u001b[1;31mImportError\u001b[0m                               Traceback (most recent call last)",
      "\u001b[1;32m<ipython-input-47-98852f99144e>\u001b[0m in \u001b[0;36m<module>\u001b[1;34m\u001b[0m\n\u001b[0;32m      3\u001b[0m \u001b[1;33m\u001b[0m\u001b[0m\n\u001b[0;32m      4\u001b[0m \u001b[0mfig\u001b[0m\u001b[1;33m,\u001b[0m \u001b[0max\u001b[0m \u001b[1;33m=\u001b[0m \u001b[0mplt\u001b[0m\u001b[1;33m.\u001b[0m\u001b[0msubplots\u001b[0m\u001b[1;33m(\u001b[0m\u001b[1;33m)\u001b[0m\u001b[1;33m\u001b[0m\u001b[1;33m\u001b[0m\u001b[0m\n\u001b[1;32m----> 5\u001b[1;33m \u001b[0minsert_series\u001b[0m\u001b[1;33m.\u001b[0m\u001b[0mplot\u001b[0m\u001b[1;33m(\u001b[0m\u001b[0mkind\u001b[0m \u001b[1;33m=\u001b[0m \u001b[1;34m'bar'\u001b[0m\u001b[1;33m,\u001b[0m \u001b[0max\u001b[0m \u001b[1;33m=\u001b[0m \u001b[0max\u001b[0m\u001b[1;33m,\u001b[0m \u001b[0mcolor\u001b[0m \u001b[1;33m=\u001b[0m \u001b[1;34m'g'\u001b[0m\u001b[1;33m,\u001b[0m \u001b[0mfigsize\u001b[0m \u001b[1;33m=\u001b[0m \u001b[1;33m(\u001b[0m\u001b[1;36m15\u001b[0m\u001b[1;33m,\u001b[0m \u001b[1;36m7\u001b[0m\u001b[1;33m)\u001b[0m\u001b[1;33m)\u001b[0m\u001b[1;33m\u001b[0m\u001b[1;33m\u001b[0m\u001b[0m\n\u001b[0m\u001b[0;32m      6\u001b[0m \u001b[1;33m\u001b[0m\u001b[0m\n\u001b[0;32m      7\u001b[0m \u001b[0mplt\u001b[0m\u001b[1;33m.\u001b[0m\u001b[0mminorticks_on\u001b[0m\u001b[1;33m(\u001b[0m\u001b[1;33m)\u001b[0m\u001b[1;33m\u001b[0m\u001b[1;33m\u001b[0m\u001b[0m\n",
      "\u001b[1;32mc:\\users\\gacci\\appdata\\local\\programs\\python\\python37-32\\lib\\site-packages\\pandas\\plotting\\_core.py\u001b[0m in \u001b[0;36m__call__\u001b[1;34m(self, kind, ax, figsize, use_index, title, grid, legend, style, logx, logy, loglog, xticks, yticks, xlim, ylim, rot, fontsize, colormap, table, yerr, xerr, label, secondary_y, **kwds)\u001b[0m\n\u001b[0;32m   2739\u001b[0m                            \u001b[0mcolormap\u001b[0m\u001b[1;33m=\u001b[0m\u001b[0mcolormap\u001b[0m\u001b[1;33m,\u001b[0m \u001b[0mtable\u001b[0m\u001b[1;33m=\u001b[0m\u001b[0mtable\u001b[0m\u001b[1;33m,\u001b[0m \u001b[0myerr\u001b[0m\u001b[1;33m=\u001b[0m\u001b[0myerr\u001b[0m\u001b[1;33m,\u001b[0m\u001b[1;33m\u001b[0m\u001b[1;33m\u001b[0m\u001b[0m\n\u001b[0;32m   2740\u001b[0m                            \u001b[0mxerr\u001b[0m\u001b[1;33m=\u001b[0m\u001b[0mxerr\u001b[0m\u001b[1;33m,\u001b[0m \u001b[0mlabel\u001b[0m\u001b[1;33m=\u001b[0m\u001b[0mlabel\u001b[0m\u001b[1;33m,\u001b[0m \u001b[0msecondary_y\u001b[0m\u001b[1;33m=\u001b[0m\u001b[0msecondary_y\u001b[0m\u001b[1;33m,\u001b[0m\u001b[1;33m\u001b[0m\u001b[1;33m\u001b[0m\u001b[0m\n\u001b[1;32m-> 2741\u001b[1;33m                            **kwds)\n\u001b[0m\u001b[0;32m   2742\u001b[0m     \u001b[0m__call__\u001b[0m\u001b[1;33m.\u001b[0m\u001b[0m__doc__\u001b[0m \u001b[1;33m=\u001b[0m \u001b[0mplot_series\u001b[0m\u001b[1;33m.\u001b[0m\u001b[0m__doc__\u001b[0m\u001b[1;33m\u001b[0m\u001b[1;33m\u001b[0m\u001b[0m\n\u001b[0;32m   2743\u001b[0m \u001b[1;33m\u001b[0m\u001b[0m\n",
      "\u001b[1;32mc:\\users\\gacci\\appdata\\local\\programs\\python\\python37-32\\lib\\site-packages\\pandas\\plotting\\_core.py\u001b[0m in \u001b[0;36mplot_series\u001b[1;34m(data, kind, ax, figsize, use_index, title, grid, legend, style, logx, logy, loglog, xticks, yticks, xlim, ylim, rot, fontsize, colormap, table, yerr, xerr, label, secondary_y, **kwds)\u001b[0m\n\u001b[0;32m   2000\u001b[0m                  \u001b[0myerr\u001b[0m\u001b[1;33m=\u001b[0m\u001b[0myerr\u001b[0m\u001b[1;33m,\u001b[0m \u001b[0mxerr\u001b[0m\u001b[1;33m=\u001b[0m\u001b[0mxerr\u001b[0m\u001b[1;33m,\u001b[0m\u001b[1;33m\u001b[0m\u001b[1;33m\u001b[0m\u001b[0m\n\u001b[0;32m   2001\u001b[0m                  \u001b[0mlabel\u001b[0m\u001b[1;33m=\u001b[0m\u001b[0mlabel\u001b[0m\u001b[1;33m,\u001b[0m \u001b[0msecondary_y\u001b[0m\u001b[1;33m=\u001b[0m\u001b[0msecondary_y\u001b[0m\u001b[1;33m,\u001b[0m\u001b[1;33m\u001b[0m\u001b[1;33m\u001b[0m\u001b[0m\n\u001b[1;32m-> 2002\u001b[1;33m                  **kwds)\n\u001b[0m\u001b[0;32m   2003\u001b[0m \u001b[1;33m\u001b[0m\u001b[0m\n\u001b[0;32m   2004\u001b[0m \u001b[1;33m\u001b[0m\u001b[0m\n",
      "\u001b[1;32mc:\\users\\gacci\\appdata\\local\\programs\\python\\python37-32\\lib\\site-packages\\pandas\\plotting\\_core.py\u001b[0m in \u001b[0;36m_plot\u001b[1;34m(data, x, y, subplots, ax, kind, **kwds)\u001b[0m\n\u001b[0;32m   1800\u001b[0m                     \u001b[0mdata\u001b[0m\u001b[1;33m.\u001b[0m\u001b[0mcolumns\u001b[0m \u001b[1;33m=\u001b[0m \u001b[0mlabel_name\u001b[0m\u001b[1;33m\u001b[0m\u001b[1;33m\u001b[0m\u001b[0m\n\u001b[0;32m   1801\u001b[0m \u001b[1;33m\u001b[0m\u001b[0m\n\u001b[1;32m-> 1802\u001b[1;33m         \u001b[0mplot_obj\u001b[0m \u001b[1;33m=\u001b[0m \u001b[0mklass\u001b[0m\u001b[1;33m(\u001b[0m\u001b[0mdata\u001b[0m\u001b[1;33m,\u001b[0m \u001b[0msubplots\u001b[0m\u001b[1;33m=\u001b[0m\u001b[0msubplots\u001b[0m\u001b[1;33m,\u001b[0m \u001b[0max\u001b[0m\u001b[1;33m=\u001b[0m\u001b[0max\u001b[0m\u001b[1;33m,\u001b[0m \u001b[0mkind\u001b[0m\u001b[1;33m=\u001b[0m\u001b[0mkind\u001b[0m\u001b[1;33m,\u001b[0m \u001b[1;33m**\u001b[0m\u001b[0mkwds\u001b[0m\u001b[1;33m)\u001b[0m\u001b[1;33m\u001b[0m\u001b[1;33m\u001b[0m\u001b[0m\n\u001b[0m\u001b[0;32m   1803\u001b[0m \u001b[1;33m\u001b[0m\u001b[0m\n\u001b[0;32m   1804\u001b[0m     \u001b[0mplot_obj\u001b[0m\u001b[1;33m.\u001b[0m\u001b[0mgenerate\u001b[0m\u001b[1;33m(\u001b[0m\u001b[1;33m)\u001b[0m\u001b[1;33m\u001b[0m\u001b[1;33m\u001b[0m\u001b[0m\n",
      "\u001b[1;32mc:\\users\\gacci\\appdata\\local\\programs\\python\\python37-32\\lib\\site-packages\\pandas\\plotting\\_core.py\u001b[0m in \u001b[0;36m__init__\u001b[1;34m(self, data, **kwargs)\u001b[0m\n\u001b[0;32m   1180\u001b[0m \u001b[1;33m\u001b[0m\u001b[0m\n\u001b[0;32m   1181\u001b[0m         \u001b[0mself\u001b[0m\u001b[1;33m.\u001b[0m\u001b[0mlog\u001b[0m \u001b[1;33m=\u001b[0m \u001b[0mkwargs\u001b[0m\u001b[1;33m.\u001b[0m\u001b[0mpop\u001b[0m\u001b[1;33m(\u001b[0m\u001b[1;34m'log'\u001b[0m\u001b[1;33m,\u001b[0m \u001b[1;32mFalse\u001b[0m\u001b[1;33m)\u001b[0m\u001b[1;33m\u001b[0m\u001b[1;33m\u001b[0m\u001b[0m\n\u001b[1;32m-> 1182\u001b[1;33m         \u001b[0mMPLPlot\u001b[0m\u001b[1;33m.\u001b[0m\u001b[0m__init__\u001b[0m\u001b[1;33m(\u001b[0m\u001b[0mself\u001b[0m\u001b[1;33m,\u001b[0m \u001b[0mdata\u001b[0m\u001b[1;33m,\u001b[0m \u001b[1;33m**\u001b[0m\u001b[0mkwargs\u001b[0m\u001b[1;33m)\u001b[0m\u001b[1;33m\u001b[0m\u001b[1;33m\u001b[0m\u001b[0m\n\u001b[0m\u001b[0;32m   1183\u001b[0m \u001b[1;33m\u001b[0m\u001b[0m\n\u001b[0;32m   1184\u001b[0m         \u001b[1;32mif\u001b[0m \u001b[0mself\u001b[0m\u001b[1;33m.\u001b[0m\u001b[0mstacked\u001b[0m \u001b[1;32mor\u001b[0m \u001b[0mself\u001b[0m\u001b[1;33m.\u001b[0m\u001b[0msubplots\u001b[0m\u001b[1;33m:\u001b[0m\u001b[1;33m\u001b[0m\u001b[1;33m\u001b[0m\u001b[0m\n",
      "\u001b[1;32mc:\\users\\gacci\\appdata\\local\\programs\\python\\python37-32\\lib\\site-packages\\pandas\\plotting\\_core.py\u001b[0m in \u001b[0;36m__init__\u001b[1;34m(self, data, kind, by, subplots, sharex, sharey, use_index, figsize, grid, legend, rot, ax, fig, title, xlim, ylim, xticks, yticks, sort_columns, fontsize, secondary_y, colormap, table, layout, **kwds)\u001b[0m\n\u001b[0;32m    105\u001b[0m                  table=False, layout=None, **kwds):\n\u001b[0;32m    106\u001b[0m \u001b[1;33m\u001b[0m\u001b[0m\n\u001b[1;32m--> 107\u001b[1;33m         \u001b[0m_raise_if_no_mpl\u001b[0m\u001b[1;33m(\u001b[0m\u001b[1;33m)\u001b[0m\u001b[1;33m\u001b[0m\u001b[1;33m\u001b[0m\u001b[0m\n\u001b[0m\u001b[0;32m    108\u001b[0m         \u001b[0m_converter\u001b[0m\u001b[1;33m.\u001b[0m\u001b[0m_WARN\u001b[0m \u001b[1;33m=\u001b[0m \u001b[1;32mFalse\u001b[0m\u001b[1;33m\u001b[0m\u001b[1;33m\u001b[0m\u001b[0m\n\u001b[0;32m    109\u001b[0m         \u001b[0mself\u001b[0m\u001b[1;33m.\u001b[0m\u001b[0mdata\u001b[0m \u001b[1;33m=\u001b[0m \u001b[0mdata\u001b[0m\u001b[1;33m\u001b[0m\u001b[1;33m\u001b[0m\u001b[0m\n",
      "\u001b[1;32mc:\\users\\gacci\\appdata\\local\\programs\\python\\python37-32\\lib\\site-packages\\pandas\\plotting\\_core.py\u001b[0m in \u001b[0;36m_raise_if_no_mpl\u001b[1;34m()\u001b[0m\n\u001b[0;32m     55\u001b[0m     \u001b[1;31m# TODO(mpl_converter): remove once converter is explicit\u001b[0m\u001b[1;33m\u001b[0m\u001b[1;33m\u001b[0m\u001b[1;33m\u001b[0m\u001b[0m\n\u001b[0;32m     56\u001b[0m     \u001b[1;32mif\u001b[0m \u001b[1;32mnot\u001b[0m \u001b[0m_HAS_MPL\u001b[0m\u001b[1;33m:\u001b[0m\u001b[1;33m\u001b[0m\u001b[1;33m\u001b[0m\u001b[0m\n\u001b[1;32m---> 57\u001b[1;33m         \u001b[1;32mraise\u001b[0m \u001b[0mImportError\u001b[0m\u001b[1;33m(\u001b[0m\u001b[1;34m\"matplotlib is required for plotting.\"\u001b[0m\u001b[1;33m)\u001b[0m\u001b[1;33m\u001b[0m\u001b[1;33m\u001b[0m\u001b[0m\n\u001b[0m\u001b[0;32m     58\u001b[0m \u001b[1;33m\u001b[0m\u001b[0m\n\u001b[0;32m     59\u001b[0m \u001b[1;33m\u001b[0m\u001b[0m\n",
      "\u001b[1;31mImportError\u001b[0m: matplotlib is required for plotting."
     ]
    },
    {
     "data": {
      "image/png": "[encoded data removed]",
      "text/plain": [
       "<Figure size 432x288 with 1 Axes>"
      ]
     },
     "metadata": {
      "needs_background": "light"
     },
     "output_type": "display_data"
    }
   ],
   "source": [
    "insert_series = pd.Series(insert_time)\n",
    "mean = insert_series.mean()\n",
    "\n",
    "fig, ax = plt.subplots()\n",
    "insert_series.plot(kind = 'bar', ax = ax, color = 'g', figsize = (15, 7))\n",
    "\n",
    "plt.minorticks_on()\n",
    "ax.tick_params(axis = 'x', which = 'minor', bottom = False)\n",
    "ax.axhline(mean)"
   ]
  },
  {
   "cell_type": "code",
   "execution_count": null,
   "metadata": {},
   "outputs": [],
   "source": []
  }
 ],
 "metadata": {
  "kernelspec": {
   "display_name": "Python 3",
   "language": "python",
   "name": "python3"
  },
  "language_info": {
   "codemirror_mode": {
    "name": "ipython",
    "version": 3
   },
   "file_extension": ".py",
   "mimetype": "text/x-python",
   "name": "python",
   "nbconvert_exporter": "python",
   "pygments_lexer": "ipython3",
   "version": "3.7.1"
  }
 },
 "nbformat": 4,
 "nbformat_minor": 2
}
